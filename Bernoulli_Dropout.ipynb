{
  "nbformat": 4,
  "nbformat_minor": 0,
  "metadata": {
    "colab": {
      "name": "Bernoulli Dropout.ipynb",
      "provenance": [],
      "collapsed_sections": []
    },
    "kernelspec": {
      "name": "python3",
      "display_name": "Python 3"
    },
    "accelerator": "GPU"
  },
  "cells": [
    {
      "cell_type": "code",
      "metadata": {
        "id": "M-WBuxl9yjcV",
        "colab_type": "code",
        "colab": {}
      },
      "source": [
        "import os\n",
        "import re\n",
        "import sys\n",
        "import time\n",
        "import random\n",
        "import math\n",
        "import string\n",
        "import copy\n",
        "import pickle\n",
        "import collections\n",
        "import numpy as np\n",
        "import matplotlib.pyplot as plt\n",
        "import torch\n",
        "import torch.nn as nn\n",
        "import torch.nn.functional as F\n",
        "import torch.optim as optim\n",
        "from torchvision import datasets,transforms\n",
        "device = torch.device('cuda' if torch.cuda.is_available() else 'cpu')\n",
        "seed = 1332"
      ],
      "execution_count": 0,
      "outputs": []
    },
    {
      "cell_type": "code",
      "metadata": {
        "id": "TQ4BW2fC02e2",
        "colab_type": "code",
        "colab": {}
      },
      "source": [
        "batchsize = 64\n",
        "train_loader = torch.utils.data.DataLoader(\n",
        "        datasets.MNIST('', train=True, download=True,\n",
        "                       transform=transforms.Compose([\n",
        "                           transforms.ToTensor(),\n",
        "                           transforms.Normalize((0.1307,), (0.3081,))\n",
        "                       ])),\n",
        "        batch_size=batchsize, shuffle=True)\n",
        "\n",
        "test_loader = torch.utils.data.DataLoader(\n",
        "        datasets.MNIST('', train=False, transform=transforms.Compose([\n",
        "                           transforms.ToTensor(),\n",
        "                           transforms.Normalize((0.1307,), (0.3081,))\n",
        "                       ])),\n",
        "        batch_size=batchsize, shuffle=True)"
      ],
      "execution_count": 0,
      "outputs": []
    },
    {
      "cell_type": "code",
      "metadata": {
        "id": "l5S4m1Gl1HpC",
        "colab_type": "code",
        "colab": {}
      },
      "source": [
        "class dropout(nn.Module):\n",
        "  def __init__(self,dropprob):\n",
        "    super(dropout,self).__init__()\n",
        "    self.dropprob = dropprob\n",
        "  def forward(self,X,trainmode):\n",
        "    if(trainmode):\n",
        "      dropweights = torch.distributions.binomial.Binomial(probs=1-self.dropprob).sample(X.size()).to(device)\n",
        "      return X * dropweights * 1/(1-self.dropprob)\n",
        "    return X"
      ],
      "execution_count": 0,
      "outputs": []
    },
    {
      "cell_type": "code",
      "metadata": {
        "id": "b-UH6ZOU7hOb",
        "colab_type": "code",
        "colab": {}
      },
      "source": [
        "class ModelWithCustomDropout(nn.Module):\n",
        "  def __init__(self):\n",
        "    super(ModelWithCustomDropout,self).__init__()\n",
        "    self.fc1 = nn.Linear(784,300)\n",
        "    self.drop1 = dropout(0.4)\n",
        "    self.fc2 = nn.Linear(300,64)\n",
        "    self.drop2 = dropout(0.3)\n",
        "    self.fc3 = nn.Linear(64,10)\n",
        "    \n",
        "  def forward(self,x,mode):\n",
        "    out = F.relu(self.fc1(x))\n",
        "    out = self.drop1(out,mode)\n",
        "    out = F.relu(self.fc2(out))\n",
        "    out = self.drop2(out,mode)\n",
        "    out = self.fc3(out)\n",
        "    return out"
      ],
      "execution_count": 0,
      "outputs": []
    },
    {
      "cell_type": "code",
      "metadata": {
        "id": "-vnRiFjA9FFI",
        "colab_type": "code",
        "colab": {}
      },
      "source": [
        "def metrics_custom(net,loader):\n",
        "  trainmode = False\n",
        "  with torch.no_grad():\n",
        "    correct = 0.0\n",
        "    total = 0.0\n",
        "    epochloss = 0.0\n",
        "    for Xtrain,ytrain in loader:\n",
        "      Xtrain = Xtrain.view(Xtrain.size(0),-1).to(device)\n",
        "      ytrain = ytrain.to(device)\n",
        "\n",
        "      output = net(Xtrain,trainmode)\n",
        "      curloss =  F.cross_entropy(output,ytrain,reduction='sum')\n",
        "      epochloss+=curloss.item()\n",
        "      \n",
        "      _,predictions = torch.max(output,1)\n",
        "      correct+=torch.sum(predictions==ytrain).item()\n",
        "      total+=Xtrain.size(0)\n",
        "\n",
        "    return round((epochloss/total),3),round(((correct/total)*100),2)"
      ],
      "execution_count": 0,
      "outputs": []
    },
    {
      "cell_type": "code",
      "metadata": {
        "id": "Bfm57HEi-t0j",
        "colab_type": "code",
        "colab": {}
      },
      "source": [
        "numepochs = 30"
      ],
      "execution_count": 0,
      "outputs": []
    },
    {
      "cell_type": "code",
      "metadata": {
        "id": "Ux1q_Qz2-dRX",
        "colab_type": "code",
        "colab": {
          "base_uri": "https://localhost:8080/",
          "height": 527
        },
        "outputId": "2c621b8f-15e9-49ca-c181-fc62c9958b55"
      },
      "source": [
        "random.seed(seed)\n",
        "np.random.seed(seed)\n",
        "torch.manual_seed(seed)\n",
        "\n",
        "net1 = ModelWithCustomDropout().to(device)\n",
        "optimizer = optim.Adam(net1.parameters())\n",
        "\n",
        "train_acc_custom = []\n",
        "train_loss_custom = []\n",
        "test_acc_custom = []\n",
        "\n",
        "for epoch in range(numepochs):\n",
        "  trainmode = True\n",
        "  for data,labels in train_loader:\n",
        "      data = data.to(device).view(data.size(0),-1)\n",
        "      labels = labels.to(device)\n",
        "      \n",
        "      net1.zero_grad()\n",
        "      output = net1(data,trainmode)\n",
        "      loss = F.cross_entropy(output,labels)\n",
        "      \n",
        "      train_loss_custom.append(loss.item())\n",
        "\n",
        "      loss.backward()\n",
        "      optimizer.step()\n",
        "\n",
        "  train_loss,train_acc = metrics_custom(net1,train_loader)\n",
        "  test_loss,test_acc = metrics_custom(net1,test_loader)\n",
        "  test_acc_custom.append(test_acc)\n",
        "  train_acc_custom.append(train_acc)\n",
        "\n",
        "  print(\"Epoch {} Train Accuracy {} Test Accuracy {}\".format(epoch+1,train_acc,test_acc))"
      ],
      "execution_count": 56,
      "outputs": [
        {
          "output_type": "stream",
          "text": [
            "Epoch 1 Train Accuracy 96.13 Test Accuracy 96.06\n",
            "Epoch 2 Train Accuracy 97.56 Test Accuracy 97.17\n",
            "Epoch 3 Train Accuracy 97.71 Test Accuracy 97.14\n",
            "Epoch 4 Train Accuracy 98.38 Test Accuracy 97.76\n",
            "Epoch 5 Train Accuracy 98.38 Test Accuracy 97.73\n",
            "Epoch 6 Train Accuracy 98.57 Test Accuracy 97.84\n",
            "Epoch 7 Train Accuracy 98.95 Test Accuracy 98.14\n",
            "Epoch 8 Train Accuracy 98.86 Test Accuracy 97.87\n",
            "Epoch 9 Train Accuracy 98.94 Test Accuracy 97.85\n",
            "Epoch 10 Train Accuracy 99.0 Test Accuracy 97.93\n",
            "Epoch 11 Train Accuracy 99.02 Test Accuracy 97.88\n",
            "Epoch 12 Train Accuracy 99.05 Test Accuracy 97.96\n",
            "Epoch 13 Train Accuracy 99.22 Test Accuracy 97.92\n",
            "Epoch 14 Train Accuracy 99.41 Test Accuracy 97.95\n",
            "Epoch 15 Train Accuracy 99.32 Test Accuracy 98.04\n",
            "Epoch 16 Train Accuracy 99.37 Test Accuracy 98.17\n",
            "Epoch 17 Train Accuracy 99.32 Test Accuracy 97.96\n",
            "Epoch 18 Train Accuracy 99.38 Test Accuracy 98.13\n",
            "Epoch 19 Train Accuracy 99.5 Test Accuracy 98.23\n",
            "Epoch 20 Train Accuracy 99.49 Test Accuracy 98.12\n",
            "Epoch 21 Train Accuracy 99.53 Test Accuracy 98.09\n",
            "Epoch 22 Train Accuracy 99.51 Test Accuracy 98.19\n",
            "Epoch 23 Train Accuracy 99.48 Test Accuracy 98.21\n",
            "Epoch 24 Train Accuracy 99.65 Test Accuracy 98.13\n",
            "Epoch 25 Train Accuracy 99.61 Test Accuracy 98.09\n",
            "Epoch 26 Train Accuracy 99.59 Test Accuracy 98.14\n",
            "Epoch 27 Train Accuracy 99.61 Test Accuracy 98.13\n",
            "Epoch 28 Train Accuracy 99.66 Test Accuracy 98.21\n",
            "Epoch 29 Train Accuracy 99.64 Test Accuracy 98.12\n",
            "Epoch 30 Train Accuracy 99.65 Test Accuracy 98.21\n"
          ],
          "name": "stdout"
        }
      ]
    },
    {
      "cell_type": "code",
      "metadata": {
        "id": "KGQsCcRLAIJ1",
        "colab_type": "code",
        "colab": {}
      },
      "source": [
        ""
      ],
      "execution_count": 0,
      "outputs": []
    },
    {
      "cell_type": "code",
      "metadata": {
        "id": "htieVd15DNQb",
        "colab_type": "code",
        "colab": {}
      },
      "source": [
        "class ModelWithPyTorchDropout(nn.Module):\n",
        "  def __init__(self):\n",
        "    super(ModelWithPyTorchDropout,self).__init__()\n",
        "    self.fc1 = nn.Linear(784,300)\n",
        "    self.drop1 = nn.Dropout(0.4)\n",
        "    self.fc2 = nn.Linear(300,64)\n",
        "    self.drop2 = nn.Dropout(0.3)\n",
        "    self.fc3 = nn.Linear(64,10)\n",
        "    \n",
        "  def forward(self,x):\n",
        "    out = F.relu(self.fc1(x))\n",
        "    out = self.drop1(out)\n",
        "    out = F.relu(self.fc2(out))\n",
        "    out = self.drop2(out)\n",
        "    out = self.fc3(out)\n",
        "    return out"
      ],
      "execution_count": 0,
      "outputs": []
    },
    {
      "cell_type": "code",
      "metadata": {
        "id": "Eld480U2Dd8T",
        "colab_type": "code",
        "colab": {}
      },
      "source": [
        "def metrics_normal(net,loader):\n",
        "  with torch.no_grad():\n",
        "    net.eval()\n",
        "    correct = 0.0\n",
        "    total = 0.0\n",
        "    epochloss = 0.0\n",
        "    for Xtrain,ytrain in loader:\n",
        "      Xtrain = Xtrain.view(Xtrain.size(0),-1).to(device)\n",
        "      ytrain = ytrain.to(device)\n",
        "\n",
        "      output = net(Xtrain)\n",
        "      curloss =  F.cross_entropy(output,ytrain,reduction='sum')\n",
        "      epochloss+=curloss.item()\n",
        "      \n",
        "      _,predictions = torch.max(output,1)\n",
        "      correct+=torch.sum(predictions==ytrain).item()\n",
        "      total+=Xtrain.size(0)\n",
        "\n",
        "    return round((epochloss/total),3),round(((correct/total)*100),2)"
      ],
      "execution_count": 0,
      "outputs": []
    },
    {
      "cell_type": "code",
      "metadata": {
        "id": "r0eVNBCADn2T",
        "colab_type": "code",
        "colab": {
          "base_uri": "https://localhost:8080/",
          "height": 527
        },
        "outputId": "c48b0912-39d8-45a7-b875-e6ce662256ca"
      },
      "source": [
        "random.seed(seed)\n",
        "np.random.seed(seed)\n",
        "torch.manual_seed(seed)\n",
        "\n",
        "net2 = ModelWithPyTorchDropout().to(device)\n",
        "optimizer = optim.Adam(net2.parameters())\n",
        "\n",
        "train_acc_normal = []\n",
        "train_loss_normal = []\n",
        "test_acc_normal = []\n",
        "\n",
        "net2.train()\n",
        "for epoch in range(numepochs):\n",
        "  net2.train()\n",
        "  for data,labels in train_loader:\n",
        "      data = data.to(device).view(data.size(0),-1)\n",
        "      labels = labels.to(device)\n",
        "      \n",
        "      net2.zero_grad()\n",
        "      output = net2(data)\n",
        "      loss = F.cross_entropy(output,labels)\n",
        "      \n",
        "      train_loss_normal.append(loss.item())\n",
        "\n",
        "      loss.backward()\n",
        "      optimizer.step()\n",
        "\n",
        "  train_loss,train_acc = metrics_normal(net2,train_loader)\n",
        "  test_loss,test_acc = metrics_normal(net2,test_loader)\n",
        "  test_acc_normal.append(test_acc)\n",
        "  train_acc_normal.append(train_acc)\n",
        "\n",
        "  print(\"Epoch {} Train Accuracy {} Test Accuracy {}\".format(epoch+1,train_acc,test_acc))"
      ],
      "execution_count": 59,
      "outputs": [
        {
          "output_type": "stream",
          "text": [
            "Epoch 1 Train Accuracy 96.06 Test Accuracy 96.05\n",
            "Epoch 2 Train Accuracy 97.15 Test Accuracy 96.69\n",
            "Epoch 3 Train Accuracy 97.69 Test Accuracy 97.16\n",
            "Epoch 4 Train Accuracy 98.04 Test Accuracy 97.28\n",
            "Epoch 5 Train Accuracy 98.47 Test Accuracy 97.77\n",
            "Epoch 6 Train Accuracy 98.73 Test Accuracy 97.63\n",
            "Epoch 7 Train Accuracy 98.62 Test Accuracy 97.49\n",
            "Epoch 8 Train Accuracy 98.76 Test Accuracy 97.8\n",
            "Epoch 9 Train Accuracy 99.04 Test Accuracy 97.97\n",
            "Epoch 10 Train Accuracy 98.98 Test Accuracy 97.91\n",
            "Epoch 11 Train Accuracy 99.13 Test Accuracy 98.04\n",
            "Epoch 12 Train Accuracy 99.16 Test Accuracy 97.92\n",
            "Epoch 13 Train Accuracy 99.18 Test Accuracy 97.93\n",
            "Epoch 14 Train Accuracy 99.3 Test Accuracy 97.99\n",
            "Epoch 15 Train Accuracy 99.33 Test Accuracy 98.14\n",
            "Epoch 16 Train Accuracy 99.35 Test Accuracy 98.18\n",
            "Epoch 17 Train Accuracy 99.44 Test Accuracy 98.25\n",
            "Epoch 18 Train Accuracy 99.48 Test Accuracy 98.16\n",
            "Epoch 19 Train Accuracy 99.3 Test Accuracy 98.01\n",
            "Epoch 20 Train Accuracy 99.44 Test Accuracy 98.05\n",
            "Epoch 21 Train Accuracy 99.46 Test Accuracy 98.19\n",
            "Epoch 22 Train Accuracy 99.54 Test Accuracy 98.22\n",
            "Epoch 23 Train Accuracy 99.53 Test Accuracy 98.06\n",
            "Epoch 24 Train Accuracy 99.6 Test Accuracy 98.1\n",
            "Epoch 25 Train Accuracy 99.58 Test Accuracy 98.15\n",
            "Epoch 26 Train Accuracy 99.53 Test Accuracy 98.13\n",
            "Epoch 27 Train Accuracy 99.5 Test Accuracy 98.17\n",
            "Epoch 28 Train Accuracy 99.64 Test Accuracy 98.19\n",
            "Epoch 29 Train Accuracy 99.64 Test Accuracy 98.22\n",
            "Epoch 30 Train Accuracy 99.65 Test Accuracy 98.2\n"
          ],
          "name": "stdout"
        }
      ]
    },
    {
      "cell_type": "code",
      "metadata": {
        "id": "2N6UEq9JEG55",
        "colab_type": "code",
        "colab": {}
      },
      "source": [
        "iterations = range(numepochs)"
      ],
      "execution_count": 0,
      "outputs": []
    },
    {
      "cell_type": "code",
      "metadata": {
        "id": "8Z8TPjKXEUpD",
        "colab_type": "code",
        "colab": {
          "base_uri": "https://localhost:8080/",
          "height": 283
        },
        "outputId": "fe87bec1-59ff-42f1-9f7f-8e92c7fdf960"
      },
      "source": [
        "plt.plot(test_acc_custom,iterations,label='Custom Dropout Accuracy')\n",
        "plt.plot(test_acc_normal,iterations,label='PyTorch Dropout Accuracy')\n",
        "plt.xlabel('Test Accuracy')\n",
        "plt.ylabel('Epochs')\n",
        "plt.legend()\n",
        "plt.show()"
      ],
      "execution_count": 61,
      "outputs": [
        {
          "output_type": "display_data",
          "data": {
            "image/png": "[encoded data removed]",
            "text/plain": [
              "<Figure size 432x288 with 1 Axes>"
            ]
          },
          "metadata": {
            "tags": []
          }
        }
      ]
    },
    {
      "cell_type": "code",
      "metadata": {
        "id": "2pLy2HxIGx5N",
        "colab_type": "code",
        "colab": {
          "base_uri": "https://localhost:8080/",
          "height": 283
        },
        "outputId": "bce0dc91-c9e2-47b0-f941-47c89e7c22c6"
      },
      "source": [
        "plt.plot(train_acc_custom,iterations,label='Custom Dropout Accuracy')\n",
        "plt.plot(train_acc_normal,iterations,label='PyTorch Dropout Accuracy')\n",
        "plt.xlabel('Training Accuracy')\n",
        "plt.ylabel('Epochs')\n",
        "plt.legend()\n",
        "plt.show()"
      ],
      "execution_count": 62,
      "outputs": [
        {
          "output_type": "display_data",
          "data": {
            "image/png": "[encoded data removed]",
            "text/plain": [
              "<Figure size 432x288 with 1 Axes>"
            ]
          },
          "metadata": {
            "tags": []
          }
        }
      ]
    },
    {
      "cell_type": "code",
      "metadata": {
        "id": "IkF81UVqEfpn",
        "colab_type": "code",
        "colab": {}
      },
      "source": [
        "batches = range(len(train_loss_custom))"
      ],
      "execution_count": 0,
      "outputs": []
    },
    {
      "cell_type": "code",
      "metadata": {
        "id": "jtlnaFmtEpSG",
        "colab_type": "code",
        "colab": {
          "base_uri": "https://localhost:8080/",
          "height": 283
        },
        "outputId": "f77ff33a-492d-4558-de74-1b3c0a7182cf"
      },
      "source": [
        "plt.plot(train_loss_custom,batches,label='Custom Dropout Loss')\n",
        "#plt.plot(train_loss_normal,batches,label='PyTorch Dropout Loss')\n",
        "plt.xlabel('Training Loss')\n",
        "plt.ylabel('Batches')\n",
        "plt.legend()\n",
        "plt.show()"
      ],
      "execution_count": 67,
      "outputs": [
        {
          "output_type": "display_data",
          "data": {
            "image/png": "[encoded data removed]",
            "text/plain": [
              "<Figure size 432x288 with 1 Axes>"
            ]
          },
          "metadata": {
            "tags": []
          }
        }
      ]
    },
    {
      "cell_type": "code",
      "metadata": {
        "id": "Yi3ahpvpFFr4",
        "colab_type": "code",
        "colab": {
          "base_uri": "https://localhost:8080/",
          "height": 283
        },
        "outputId": "9d9342f4-e751-4275-c154-9a386511f7b8"
      },
      "source": [
        "plt.plot(train_loss_normal,batches,label='PyTorch Dropout Loss')\n",
        "plt.xlabel('Training Loss')\n",
        "plt.ylabel('Batches')\n",
        "plt.legend()\n",
        "plt.show()"
      ],
      "execution_count": 65,
      "outputs": [
        {
          "output_type": "display_data",
          "data": {
            "image/png": "[encoded data removed]",
            "text/plain": [
              "<Figure size 432x288 with 1 Axes>"
            ]
          },
          "metadata": {
            "tags": []
          }
        }
      ]
    },
    {
      "cell_type": "code",
      "metadata": {
        "id": "GKULCL4KFPg-",
        "colab_type": "code",
        "colab": {}
      },
      "source": [
        ""
      ],
      "execution_count": 0,
      "outputs": []
    }
  ]
}